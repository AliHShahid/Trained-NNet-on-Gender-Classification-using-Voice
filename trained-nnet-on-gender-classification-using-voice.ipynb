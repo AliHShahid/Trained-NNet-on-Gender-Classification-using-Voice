{
 "cells": [
  {
   "cell_type": "markdown",
   "id": "e9004879",
   "metadata": {
    "papermill": {
     "duration": 0.005976,
     "end_time": "2025-01-27T17:01:02.434173",
     "exception": false,
     "start_time": "2025-01-27T17:01:02.428197",
     "status": "completed"
    },
    "tags": []
   },
   "source": [
    "# `Gender Classification Using Voice Features`"
   ]
  },
  {
   "cell_type": "markdown",
   "id": "d4ce44c7",
   "metadata": {
    "papermill": {
     "duration": 0.003942,
     "end_time": "2025-01-27T17:01:02.442497",
     "exception": false,
     "start_time": "2025-01-27T17:01:02.438555",
     "status": "completed"
    },
    "tags": []
   },
   "source": [
    "Author: Ali Hassan Shahid\n",
    "\n",
    "Email: alyhassanshahid@gmail.com\n",
    "\n",
    "Contact: [LinkedIn](https://www.linkedin.com/in/alihassanshahid17/)"
   ]
  },
  {
   "cell_type": "markdown",
   "id": "acfc1f59",
   "metadata": {
    "papermill": {
     "duration": 0.00375,
     "end_time": "2025-01-27T17:01:02.450226",
     "exception": false,
     "start_time": "2025-01-27T17:01:02.446476",
     "status": "completed"
    },
    "tags": []
   },
   "source": [
    "# `Objective`"
   ]
  },
  {
   "cell_type": "markdown",
   "id": "e5a246e0",
   "metadata": {
    "papermill": {
     "duration": 0.003768,
     "end_time": "2025-01-27T17:01:02.458047",
     "exception": false,
     "start_time": "2025-01-27T17:01:02.454279",
     "status": "completed"
    },
    "tags": []
   },
   "source": [
    "### `Build a machine learning model to classify a voice as male or female based on acoustic properties.`\n",
    "\n",
    "`Steps`\n",
    "\n",
    "* Step1: `Import libraries`\n",
    "\n",
    "* Step2: `Load and preview the dataset`, i.e, check for missing values\n",
    "\n",
    "* Step3: `Encode the target variables` (male = 0, female = 1)\n",
    "\n",
    "* Step4: `Separate features and target`\n",
    "\n",
    "* Step5: `Split dataset into training and testing sets`\n",
    "\n",
    "* Step6: `Normalize the features` using StandardScaler\n",
    "\n",
    "* Step7: `Build and compile` the neural network model\n",
    "\n",
    "* Step8: `Train the model`\n",
    "\n",
    "* Step9: `Evaluate the model` and check for accuracy \n",
    "\n",
    "* Step10: `Data Visualizations`"
   ]
  },
  {
   "cell_type": "markdown",
   "id": "a2555a73",
   "metadata": {
    "papermill": {
     "duration": 0.003857,
     "end_time": "2025-01-27T17:01:02.465809",
     "exception": false,
     "start_time": "2025-01-27T17:01:02.461952",
     "status": "completed"
    },
    "tags": []
   },
   "source": [
    "### `About Dataset`\n",
    "`Gender Recognition by Voice and Speech Analysis`\n",
    "\n",
    "This database was created to identify a voice as male or female, based upon acoustic properties of the voice and speech. The dataset consists of 3,168 recorded voice samples, collected from male and female speakers. The voice samples are pre-processed by acoustic analysis in R using the seewave and tuneR packages, with an analyzed frequency range of 0hz-280hz (human vocal range).\n",
    "\n",
    "### `The Dataset`\n",
    "The following acoustic properties of each voice are measured and included within the CSV:\n",
    "\n",
    "* meanfreq: mean frequency (in kHz)\n",
    "* sd: standard deviation of frequency\n",
    "* median: median frequency (in kHz)\n",
    "* Q25: first quantile (in kHz)\n",
    "* Q75: third quantile (in kHz)\n",
    "* IQR: interquantile range (in kHz)\n",
    "* skew: skewness (see note in specprop description)\n",
    "* kurt: kurtosis (see note in specprop description)\n",
    "* sp.ent: spectral entropy\n",
    "* sfm: spectral flatness\n",
    "* mode: mode frequency\n",
    "* centroid: frequency centroid (see specprop)\n",
    "* peakf: peak frequency (frequency with highest energy)\n",
    "* meanfun: average of fundamental frequency measured across acoustic signal\n",
    "* minfun: minimum fundamental frequency measured across acoustic signal\n",
    "* maxfun: maximum fundamental frequency measured across acoustic signal\n",
    "* meandom: average of dominant frequency measured across acoustic signal\n",
    "* mindom: minimum of dominant frequency measured across acoustic signal\n",
    "* maxdom: maximum of dominant frequency measured across acoustic signal\n",
    "* dfrange: range of dominant frequency measured across acoustic signal\n",
    "* modindx: modulation index. Calculated as the accumulated absolute difference between adjacent measurements of fundamental frequencies divided by the frequency range\n",
    "* label: male or female\n",
    "\n",
    "\n",
    "`References`\n",
    "* The Harvard-Haskins Database of Regularly-Timed Speech\n",
    "\n",
    "* Telecommunications & Signal Processing Laboratory (TSP) Speech Database at McGill University, Home\n",
    "\n",
    "* VoxForge Speech Corpus, Home\n",
    "\n",
    "* Festvox CMU_ARCTIC Speech Database at Carnegie Mellon University"
   ]
  },
  {
   "cell_type": "markdown",
   "id": "810c1100",
   "metadata": {
    "papermill": {
     "duration": 0.003776,
     "end_time": "2025-01-27T17:01:02.473531",
     "exception": false,
     "start_time": "2025-01-27T17:01:02.469755",
     "status": "completed"
    },
    "tags": []
   },
   "source": [
    "# `Implementation`"
   ]
  },
  {
   "cell_type": "markdown",
   "id": "a187782a",
   "metadata": {
    "papermill": {
     "duration": 0.003828,
     "end_time": "2025-01-27T17:01:02.481399",
     "exception": false,
     "start_time": "2025-01-27T17:01:02.477571",
     "status": "completed"
    },
    "tags": []
   },
   "source": [
    "## `Step 1: Import libraries`"
   ]
  },
  {
   "cell_type": "code",
   "execution_count": 1,
   "id": "967f9925",
   "metadata": {
    "execution": {
     "iopub.execute_input": "2025-01-27T17:01:02.490221Z",
     "iopub.status.busy": "2025-01-27T17:01:02.489970Z",
     "iopub.status.idle": "2025-01-27T17:01:15.606208Z",
     "shell.execute_reply": "2025-01-27T17:01:15.605511Z"
    },
    "papermill": {
     "duration": 13.122442,
     "end_time": "2025-01-27T17:01:15.607791",
     "exception": false,
     "start_time": "2025-01-27T17:01:02.485349",
     "status": "completed"
    },
    "tags": []
   },
   "outputs": [],
   "source": [
    "import pandas as pd\n",
    "import numpy as np\n",
    "import matplotlib.pyplot as plt\n",
    "import seaborn as sns\n",
    "from sklearn.model_selection import train_test_split\n",
    "from sklearn.preprocessing import StandardScaler, LabelEncoder\n",
    "import tensorflow as tf\n",
    "from tensorflow.keras.models import Sequential\n",
    "from tensorflow.keras.layers import Dense, Dropout"
   ]
  },
  {
   "cell_type": "markdown",
   "id": "6173efe8",
   "metadata": {
    "papermill": {
     "duration": 0.004316,
     "end_time": "2025-01-27T17:01:15.616501",
     "exception": false,
     "start_time": "2025-01-27T17:01:15.612185",
     "status": "completed"
    },
    "tags": []
   },
   "source": [
    "## `Step2: Load and preview the dataset`, i.e, check for missing values"
   ]
  },
  {
   "cell_type": "code",
   "execution_count": 2,
   "id": "a2ce5ae9",
   "metadata": {
    "execution": {
     "iopub.execute_input": "2025-01-27T17:01:15.625753Z",
     "iopub.status.busy": "2025-01-27T17:01:15.625259Z",
     "iopub.status.idle": "2025-01-27T17:01:15.682901Z",
     "shell.execute_reply": "2025-01-27T17:01:15.681879Z"
    },
    "papermill": {
     "duration": 0.063564,
     "end_time": "2025-01-27T17:01:15.684119",
     "exception": false,
     "start_time": "2025-01-27T17:01:15.620555",
     "status": "completed"
    },
    "tags": []
   },
   "outputs": [
    {
     "name": "stdout",
     "output_type": "stream",
     "text": [
      "   meanfreq        sd    median       Q25       Q75       IQR       skew  \\\n",
      "0  0.059781  0.064241  0.032027  0.015071  0.090193  0.075122  12.863462   \n",
      "1  0.066009  0.067310  0.040229  0.019414  0.092666  0.073252  22.423285   \n",
      "2  0.077316  0.083829  0.036718  0.008701  0.131908  0.123207  30.757155   \n",
      "3  0.151228  0.072111  0.158011  0.096582  0.207955  0.111374   1.232831   \n",
      "4  0.135120  0.079146  0.124656  0.078720  0.206045  0.127325   1.101174   \n",
      "\n",
      "          kurt    sp.ent       sfm  ...  centroid   meanfun    minfun  \\\n",
      "0   274.402906  0.893369  0.491918  ...  0.059781  0.084279  0.015702   \n",
      "1   634.613855  0.892193  0.513724  ...  0.066009  0.107937  0.015826   \n",
      "2  1024.927705  0.846389  0.478905  ...  0.077316  0.098706  0.015656   \n",
      "3     4.177296  0.963322  0.727232  ...  0.151228  0.088965  0.017798   \n",
      "4     4.333713  0.971955  0.783568  ...  0.135120  0.106398  0.016931   \n",
      "\n",
      "     maxfun   meandom    mindom    maxdom   dfrange   modindx  label  \n",
      "0  0.275862  0.007812  0.007812  0.007812  0.000000  0.000000   male  \n",
      "1  0.250000  0.009014  0.007812  0.054688  0.046875  0.052632   male  \n",
      "2  0.271186  0.007990  0.007812  0.015625  0.007812  0.046512   male  \n",
      "3  0.250000  0.201497  0.007812  0.562500  0.554688  0.247119   male  \n",
      "4  0.266667  0.712812  0.007812  5.484375  5.476562  0.208274   male  \n",
      "\n",
      "[5 rows x 21 columns]\n",
      "Missing Values\n",
      "meanfreq    0\n",
      "sd          0\n",
      "median      0\n",
      "Q25         0\n",
      "Q75         0\n",
      "IQR         0\n",
      "skew        0\n",
      "kurt        0\n",
      "sp.ent      0\n",
      "sfm         0\n",
      "mode        0\n",
      "centroid    0\n",
      "meanfun     0\n",
      "minfun      0\n",
      "maxfun      0\n",
      "meandom     0\n",
      "mindom      0\n",
      "maxdom      0\n",
      "dfrange     0\n",
      "modindx     0\n",
      "label       0\n",
      "dtype: int64\n"
     ]
    }
   ],
   "source": [
    "# Load dataset\n",
    "# url = \"https://raw.githubusercontent.com/primaryobjects/voice-gender/master/voice.csv\"  # Dataset URL\n",
    "data = pd.read_csv('/kaggle/input/voicegender/voice.csv')\n",
    "\n",
    "# Preview the dataset\n",
    "print(data.head())\n",
    "\n",
    "# Check for missing values\n",
    "print('Missing Values')\n",
    "print(data.isnull().sum())"
   ]
  },
  {
   "cell_type": "markdown",
   "id": "33af8ac2",
   "metadata": {
    "papermill": {
     "duration": 0.003983,
     "end_time": "2025-01-27T17:01:15.692430",
     "exception": false,
     "start_time": "2025-01-27T17:01:15.688447",
     "status": "completed"
    },
    "tags": []
   },
   "source": [
    "## `Step3: Encode the target variables` (male = 0, female = 1)"
   ]
  },
  {
   "cell_type": "code",
   "execution_count": 3,
   "id": "3bbc62b1",
   "metadata": {
    "execution": {
     "iopub.execute_input": "2025-01-27T17:01:15.701533Z",
     "iopub.status.busy": "2025-01-27T17:01:15.701314Z",
     "iopub.status.idle": "2025-01-27T17:01:15.705513Z",
     "shell.execute_reply": "2025-01-27T17:01:15.704745Z"
    },
    "papermill": {
     "duration": 0.01007,
     "end_time": "2025-01-27T17:01:15.706706",
     "exception": false,
     "start_time": "2025-01-27T17:01:15.696636",
     "status": "completed"
    },
    "tags": []
   },
   "outputs": [],
   "source": [
    "# Encode the target variable (male = 0, female = 1)\n",
    "encoder = LabelEncoder()\n",
    "data['label'] = encoder.fit_transform(data['label'])\n"
   ]
  },
  {
   "cell_type": "markdown",
   "id": "8bd6729e",
   "metadata": {
    "papermill": {
     "duration": 0.004007,
     "end_time": "2025-01-27T17:01:15.714958",
     "exception": false,
     "start_time": "2025-01-27T17:01:15.710951",
     "status": "completed"
    },
    "tags": []
   },
   "source": [
    "## `Step4: Separate features and target`"
   ]
  },
  {
   "cell_type": "code",
   "execution_count": 4,
   "id": "6c803e9e",
   "metadata": {
    "execution": {
     "iopub.execute_input": "2025-01-27T17:01:15.723964Z",
     "iopub.status.busy": "2025-01-27T17:01:15.723722Z",
     "iopub.status.idle": "2025-01-27T17:01:15.730279Z",
     "shell.execute_reply": "2025-01-27T17:01:15.729668Z"
    },
    "papermill": {
     "duration": 0.012276,
     "end_time": "2025-01-27T17:01:15.731339",
     "exception": false,
     "start_time": "2025-01-27T17:01:15.719063",
     "status": "completed"
    },
    "tags": []
   },
   "outputs": [],
   "source": [
    "# Separate features and target\n",
    "X = data.drop('label', axis=1)\n",
    "y = data['label']"
   ]
  },
  {
   "cell_type": "markdown",
   "id": "0b593f3b",
   "metadata": {
    "papermill": {
     "duration": 0.003863,
     "end_time": "2025-01-27T17:01:15.739495",
     "exception": false,
     "start_time": "2025-01-27T17:01:15.735632",
     "status": "completed"
    },
    "tags": []
   },
   "source": [
    "## `Step5: Split dataset into training and testing sets`"
   ]
  },
  {
   "cell_type": "code",
   "execution_count": 5,
   "id": "e36ffd81",
   "metadata": {
    "execution": {
     "iopub.execute_input": "2025-01-27T17:01:15.748444Z",
     "iopub.status.busy": "2025-01-27T17:01:15.748234Z",
     "iopub.status.idle": "2025-01-27T17:01:15.756136Z",
     "shell.execute_reply": "2025-01-27T17:01:15.755543Z"
    },
    "papermill": {
     "duration": 0.013636,
     "end_time": "2025-01-27T17:01:15.757336",
     "exception": false,
     "start_time": "2025-01-27T17:01:15.743700",
     "status": "completed"
    },
    "tags": []
   },
   "outputs": [],
   "source": [
    "# Split dataset into training and testing sets\n",
    "X_train, X_test, y_train, y_test = train_test_split(X, y, test_size=0.2, random_state=42, stratify=y)"
   ]
  },
  {
   "cell_type": "markdown",
   "id": "fe7ea7cc",
   "metadata": {
    "papermill": {
     "duration": 0.003899,
     "end_time": "2025-01-27T17:01:15.765484",
     "exception": false,
     "start_time": "2025-01-27T17:01:15.761585",
     "status": "completed"
    },
    "tags": []
   },
   "source": [
    "## `Step6: Normalize the features` using StandardScaler"
   ]
  },
  {
   "cell_type": "code",
   "execution_count": 6,
   "id": "ff1730fb",
   "metadata": {
    "execution": {
     "iopub.execute_input": "2025-01-27T17:01:15.774221Z",
     "iopub.status.busy": "2025-01-27T17:01:15.774022Z",
     "iopub.status.idle": "2025-01-27T17:01:15.812191Z",
     "shell.execute_reply": "2025-01-27T17:01:15.811627Z"
    },
    "papermill": {
     "duration": 0.043801,
     "end_time": "2025-01-27T17:01:15.813288",
     "exception": false,
     "start_time": "2025-01-27T17:01:15.769487",
     "status": "completed"
    },
    "tags": []
   },
   "outputs": [],
   "source": [
    "# Normalize the features using StandardScaler\n",
    "scaler = StandardScaler()\n",
    "X_train = scaler.fit_transform(X_train)\n",
    "X_test = scaler.transform(X_test)\n"
   ]
  },
  {
   "cell_type": "markdown",
   "id": "1e161a9b",
   "metadata": {
    "papermill": {
     "duration": 0.003988,
     "end_time": "2025-01-27T17:01:15.821580",
     "exception": false,
     "start_time": "2025-01-27T17:01:15.817592",
     "status": "completed"
    },
    "tags": []
   },
   "source": [
    "## `Step 7: Build and compile` the neural network model"
   ]
  },
  {
   "cell_type": "code",
   "execution_count": 7,
   "id": "575b9279",
   "metadata": {
    "execution": {
     "iopub.execute_input": "2025-01-27T17:01:15.830376Z",
     "iopub.status.busy": "2025-01-27T17:01:15.830174Z",
     "iopub.status.idle": "2025-01-27T17:01:18.060625Z",
     "shell.execute_reply": "2025-01-27T17:01:18.059931Z"
    },
    "papermill": {
     "duration": 2.236535,
     "end_time": "2025-01-27T17:01:18.062266",
     "exception": false,
     "start_time": "2025-01-27T17:01:15.825731",
     "status": "completed"
    },
    "tags": []
   },
   "outputs": [
    {
     "name": "stderr",
     "output_type": "stream",
     "text": [
      "/usr/local/lib/python3.10/dist-packages/keras/src/layers/core/dense.py:87: UserWarning: Do not pass an `input_shape`/`input_dim` argument to a layer. When using Sequential models, prefer using an `Input(shape)` object as the first layer in the model instead.\n",
      "  super().__init__(activity_regularizer=activity_regularizer, **kwargs)\n"
     ]
    }
   ],
   "source": [
    "# Build the neural network model\n",
    "model = Sequential([\n",
    "    Dense(128, activation='relu', input_shape=(X_train.shape[1],)),\n",
    "    Dropout(0.3),  # Dropout for regularization\n",
    "    Dense(64, activation='relu'),\n",
    "    Dropout(0.3),\n",
    "    Dense(1, activation='sigmoid')  # Binary classification\n",
    "])\n",
    "\n",
    "# Compile the model\n",
    "model.compile(optimizer='adam', loss='binary_crossentropy', metrics=['accuracy'])\n"
   ]
  },
  {
   "cell_type": "markdown",
   "id": "b9804ac9",
   "metadata": {
    "papermill": {
     "duration": 0.004111,
     "end_time": "2025-01-27T17:01:18.071211",
     "exception": false,
     "start_time": "2025-01-27T17:01:18.067100",
     "status": "completed"
    },
    "tags": []
   },
   "source": [
    "## `Step8: Train the model`"
   ]
  },
  {
   "cell_type": "code",
   "execution_count": 8,
   "id": "e298b84a",
   "metadata": {
    "execution": {
     "iopub.execute_input": "2025-01-27T17:01:18.080666Z",
     "iopub.status.busy": "2025-01-27T17:01:18.080391Z",
     "iopub.status.idle": "2025-01-27T17:01:31.444241Z",
     "shell.execute_reply": "2025-01-27T17:01:31.443558Z"
    },
    "papermill": {
     "duration": 13.370014,
     "end_time": "2025-01-27T17:01:31.445553",
     "exception": false,
     "start_time": "2025-01-27T17:01:18.075539",
     "status": "completed"
    },
    "tags": []
   },
   "outputs": [
    {
     "name": "stdout",
     "output_type": "stream",
     "text": [
      "Epoch 1/50\n",
      "\u001b[1m80/80\u001b[0m \u001b[32m━━━━━━━━━━━━━━━━━━━━\u001b[0m\u001b[37m\u001b[0m \u001b[1m5s\u001b[0m 26ms/step - accuracy: 0.8211 - loss: 0.4580 - val_accuracy: 0.9527 - val_loss: 0.1259\n",
      "Epoch 2/50\n",
      "\u001b[1m80/80\u001b[0m \u001b[32m━━━━━━━━━━━━━━━━━━━━\u001b[0m\u001b[37m\u001b[0m \u001b[1m0s\u001b[0m 2ms/step - accuracy: 0.9612 - loss: 0.1355 - val_accuracy: 0.9653 - val_loss: 0.0715\n",
      "Epoch 3/50\n",
      "\u001b[1m80/80\u001b[0m \u001b[32m━━━━━━━━━━━━━━━━━━━━\u001b[0m\u001b[37m\u001b[0m \u001b[1m0s\u001b[0m 2ms/step - accuracy: 0.9677 - loss: 0.1011 - val_accuracy: 0.9811 - val_loss: 0.0528\n",
      "Epoch 4/50\n",
      "\u001b[1m80/80\u001b[0m \u001b[32m━━━━━━━━━━━━━━━━━━━━\u001b[0m\u001b[37m\u001b[0m \u001b[1m0s\u001b[0m 2ms/step - accuracy: 0.9799 - loss: 0.0713 - val_accuracy: 0.9732 - val_loss: 0.0586\n",
      "Epoch 5/50\n",
      "\u001b[1m80/80\u001b[0m \u001b[32m━━━━━━━━━━━━━━━━━━━━\u001b[0m\u001b[37m\u001b[0m \u001b[1m0s\u001b[0m 2ms/step - accuracy: 0.9750 - loss: 0.0686 - val_accuracy: 0.9748 - val_loss: 0.0538\n",
      "Epoch 6/50\n",
      "\u001b[1m80/80\u001b[0m \u001b[32m━━━━━━━━━━━━━━━━━━━━\u001b[0m\u001b[37m\u001b[0m \u001b[1m0s\u001b[0m 2ms/step - accuracy: 0.9745 - loss: 0.0781 - val_accuracy: 0.9779 - val_loss: 0.0505\n",
      "Epoch 7/50\n",
      "\u001b[1m80/80\u001b[0m \u001b[32m━━━━━━━━━━━━━━━━━━━━\u001b[0m\u001b[37m\u001b[0m \u001b[1m0s\u001b[0m 2ms/step - accuracy: 0.9767 - loss: 0.0740 - val_accuracy: 0.9795 - val_loss: 0.0538\n",
      "Epoch 8/50\n",
      "\u001b[1m80/80\u001b[0m \u001b[32m━━━━━━━━━━━━━━━━━━━━\u001b[0m\u001b[37m\u001b[0m \u001b[1m0s\u001b[0m 2ms/step - accuracy: 0.9755 - loss: 0.0672 - val_accuracy: 0.9858 - val_loss: 0.0444\n",
      "Epoch 9/50\n",
      "\u001b[1m80/80\u001b[0m \u001b[32m━━━━━━━━━━━━━━━━━━━━\u001b[0m\u001b[37m\u001b[0m \u001b[1m0s\u001b[0m 2ms/step - accuracy: 0.9826 - loss: 0.0505 - val_accuracy: 0.9826 - val_loss: 0.0490\n",
      "Epoch 10/50\n",
      "\u001b[1m80/80\u001b[0m \u001b[32m━━━━━━━━━━━━━━━━━━━━\u001b[0m\u001b[37m\u001b[0m \u001b[1m0s\u001b[0m 2ms/step - accuracy: 0.9828 - loss: 0.0538 - val_accuracy: 0.9858 - val_loss: 0.0454\n",
      "Epoch 11/50\n",
      "\u001b[1m80/80\u001b[0m \u001b[32m━━━━━━━━━━━━━━━━━━━━\u001b[0m\u001b[37m\u001b[0m \u001b[1m0s\u001b[0m 2ms/step - accuracy: 0.9763 - loss: 0.0648 - val_accuracy: 0.9842 - val_loss: 0.0461\n",
      "Epoch 12/50\n",
      "\u001b[1m80/80\u001b[0m \u001b[32m━━━━━━━━━━━━━━━━━━━━\u001b[0m\u001b[37m\u001b[0m \u001b[1m0s\u001b[0m 2ms/step - accuracy: 0.9782 - loss: 0.0576 - val_accuracy: 0.9826 - val_loss: 0.0469\n",
      "Epoch 13/50\n",
      "\u001b[1m80/80\u001b[0m \u001b[32m━━━━━━━━━━━━━━━━━━━━\u001b[0m\u001b[37m\u001b[0m \u001b[1m0s\u001b[0m 2ms/step - accuracy: 0.9774 - loss: 0.0626 - val_accuracy: 0.9858 - val_loss: 0.0448\n",
      "Epoch 14/50\n",
      "\u001b[1m80/80\u001b[0m \u001b[32m━━━━━━━━━━━━━━━━━━━━\u001b[0m\u001b[37m\u001b[0m \u001b[1m0s\u001b[0m 2ms/step - accuracy: 0.9772 - loss: 0.0606 - val_accuracy: 0.9826 - val_loss: 0.0468\n",
      "Epoch 15/50\n",
      "\u001b[1m80/80\u001b[0m \u001b[32m━━━━━━━━━━━━━━━━━━━━\u001b[0m\u001b[37m\u001b[0m \u001b[1m0s\u001b[0m 2ms/step - accuracy: 0.9812 - loss: 0.0517 - val_accuracy: 0.9874 - val_loss: 0.0418\n",
      "Epoch 16/50\n",
      "\u001b[1m80/80\u001b[0m \u001b[32m━━━━━━━━━━━━━━━━━━━━\u001b[0m\u001b[37m\u001b[0m \u001b[1m0s\u001b[0m 2ms/step - accuracy: 0.9795 - loss: 0.0530 - val_accuracy: 0.9826 - val_loss: 0.0495\n",
      "Epoch 17/50\n",
      "\u001b[1m80/80\u001b[0m \u001b[32m━━━━━━━━━━━━━━━━━━━━\u001b[0m\u001b[37m\u001b[0m \u001b[1m0s\u001b[0m 2ms/step - accuracy: 0.9792 - loss: 0.0526 - val_accuracy: 0.9858 - val_loss: 0.0434\n",
      "Epoch 18/50\n",
      "\u001b[1m80/80\u001b[0m \u001b[32m━━━━━━━━━━━━━━━━━━━━\u001b[0m\u001b[37m\u001b[0m \u001b[1m0s\u001b[0m 2ms/step - accuracy: 0.9832 - loss: 0.0444 - val_accuracy: 0.9858 - val_loss: 0.0420\n",
      "Epoch 19/50\n",
      "\u001b[1m80/80\u001b[0m \u001b[32m━━━━━━━━━━━━━━━━━━━━\u001b[0m\u001b[37m\u001b[0m \u001b[1m0s\u001b[0m 2ms/step - accuracy: 0.9783 - loss: 0.0705 - val_accuracy: 0.9842 - val_loss: 0.0450\n",
      "Epoch 20/50\n",
      "\u001b[1m80/80\u001b[0m \u001b[32m━━━━━━━━━━━━━━━━━━━━\u001b[0m\u001b[37m\u001b[0m \u001b[1m0s\u001b[0m 2ms/step - accuracy: 0.9881 - loss: 0.0385 - val_accuracy: 0.9811 - val_loss: 0.0521\n",
      "Epoch 21/50\n",
      "\u001b[1m80/80\u001b[0m \u001b[32m━━━━━━━━━━━━━━━━━━━━\u001b[0m\u001b[37m\u001b[0m \u001b[1m0s\u001b[0m 2ms/step - accuracy: 0.9837 - loss: 0.0482 - val_accuracy: 0.9874 - val_loss: 0.0404\n",
      "Epoch 22/50\n",
      "\u001b[1m80/80\u001b[0m \u001b[32m━━━━━━━━━━━━━━━━━━━━\u001b[0m\u001b[37m\u001b[0m \u001b[1m0s\u001b[0m 2ms/step - accuracy: 0.9832 - loss: 0.0448 - val_accuracy: 0.9826 - val_loss: 0.0481\n",
      "Epoch 23/50\n",
      "\u001b[1m80/80\u001b[0m \u001b[32m━━━━━━━━━━━━━━━━━━━━\u001b[0m\u001b[37m\u001b[0m \u001b[1m0s\u001b[0m 2ms/step - accuracy: 0.9842 - loss: 0.0388 - val_accuracy: 0.9890 - val_loss: 0.0361\n",
      "Epoch 24/50\n",
      "\u001b[1m80/80\u001b[0m \u001b[32m━━━━━━━━━━━━━━━━━━━━\u001b[0m\u001b[37m\u001b[0m \u001b[1m0s\u001b[0m 2ms/step - accuracy: 0.9887 - loss: 0.0325 - val_accuracy: 0.9842 - val_loss: 0.0433\n",
      "Epoch 25/50\n",
      "\u001b[1m80/80\u001b[0m \u001b[32m━━━━━━━━━━━━━━━━━━━━\u001b[0m\u001b[37m\u001b[0m \u001b[1m0s\u001b[0m 2ms/step - accuracy: 0.9862 - loss: 0.0468 - val_accuracy: 0.9858 - val_loss: 0.0391\n",
      "Epoch 26/50\n",
      "\u001b[1m80/80\u001b[0m \u001b[32m━━━━━━━━━━━━━━━━━━━━\u001b[0m\u001b[37m\u001b[0m \u001b[1m0s\u001b[0m 2ms/step - accuracy: 0.9861 - loss: 0.0379 - val_accuracy: 0.9874 - val_loss: 0.0386\n",
      "Epoch 27/50\n",
      "\u001b[1m80/80\u001b[0m \u001b[32m━━━━━━━━━━━━━━━━━━━━\u001b[0m\u001b[37m\u001b[0m \u001b[1m0s\u001b[0m 2ms/step - accuracy: 0.9870 - loss: 0.0447 - val_accuracy: 0.9826 - val_loss: 0.0488\n",
      "Epoch 28/50\n",
      "\u001b[1m80/80\u001b[0m \u001b[32m━━━━━━━━━━━━━━━━━━━━\u001b[0m\u001b[37m\u001b[0m \u001b[1m0s\u001b[0m 2ms/step - accuracy: 0.9857 - loss: 0.0397 - val_accuracy: 0.9890 - val_loss: 0.0377\n",
      "Epoch 29/50\n",
      "\u001b[1m80/80\u001b[0m \u001b[32m━━━━━━━━━━━━━━━━━━━━\u001b[0m\u001b[37m\u001b[0m \u001b[1m0s\u001b[0m 2ms/step - accuracy: 0.9774 - loss: 0.0480 - val_accuracy: 0.9874 - val_loss: 0.0387\n",
      "Epoch 30/50\n",
      "\u001b[1m80/80\u001b[0m \u001b[32m━━━━━━━━━━━━━━━━━━━━\u001b[0m\u001b[37m\u001b[0m \u001b[1m0s\u001b[0m 2ms/step - accuracy: 0.9870 - loss: 0.0387 - val_accuracy: 0.9858 - val_loss: 0.0412\n",
      "Epoch 31/50\n",
      "\u001b[1m80/80\u001b[0m \u001b[32m━━━━━━━━━━━━━━━━━━━━\u001b[0m\u001b[37m\u001b[0m \u001b[1m0s\u001b[0m 2ms/step - accuracy: 0.9823 - loss: 0.0409 - val_accuracy: 0.9905 - val_loss: 0.0369\n",
      "Epoch 32/50\n",
      "\u001b[1m80/80\u001b[0m \u001b[32m━━━━━━━━━━━━━━━━━━━━\u001b[0m\u001b[37m\u001b[0m \u001b[1m0s\u001b[0m 2ms/step - accuracy: 0.9836 - loss: 0.0365 - val_accuracy: 0.9874 - val_loss: 0.0384\n",
      "Epoch 33/50\n",
      "\u001b[1m80/80\u001b[0m \u001b[32m━━━━━━━━━━━━━━━━━━━━\u001b[0m\u001b[37m\u001b[0m \u001b[1m0s\u001b[0m 2ms/step - accuracy: 0.9837 - loss: 0.0396 - val_accuracy: 0.9858 - val_loss: 0.0375\n",
      "Epoch 34/50\n",
      "\u001b[1m80/80\u001b[0m \u001b[32m━━━━━━━━━━━━━━━━━━━━\u001b[0m\u001b[37m\u001b[0m \u001b[1m0s\u001b[0m 2ms/step - accuracy: 0.9803 - loss: 0.0412 - val_accuracy: 0.9842 - val_loss: 0.0417\n",
      "Epoch 35/50\n",
      "\u001b[1m80/80\u001b[0m \u001b[32m━━━━━━━━━━━━━━━━━━━━\u001b[0m\u001b[37m\u001b[0m \u001b[1m0s\u001b[0m 2ms/step - accuracy: 0.9814 - loss: 0.0375 - val_accuracy: 0.9874 - val_loss: 0.0360\n",
      "Epoch 36/50\n",
      "\u001b[1m80/80\u001b[0m \u001b[32m━━━━━━━━━━━━━━━━━━━━\u001b[0m\u001b[37m\u001b[0m \u001b[1m0s\u001b[0m 2ms/step - accuracy: 0.9785 - loss: 0.0554 - val_accuracy: 0.9890 - val_loss: 0.0339\n",
      "Epoch 37/50\n",
      "\u001b[1m80/80\u001b[0m \u001b[32m━━━━━━━━━━━━━━━━━━━━\u001b[0m\u001b[37m\u001b[0m \u001b[1m0s\u001b[0m 2ms/step - accuracy: 0.9819 - loss: 0.0445 - val_accuracy: 0.9890 - val_loss: 0.0322\n",
      "Epoch 38/50\n",
      "\u001b[1m80/80\u001b[0m \u001b[32m━━━━━━━━━━━━━━━━━━━━\u001b[0m\u001b[37m\u001b[0m \u001b[1m0s\u001b[0m 2ms/step - accuracy: 0.9874 - loss: 0.0322 - val_accuracy: 0.9874 - val_loss: 0.0390\n",
      "Epoch 39/50\n",
      "\u001b[1m80/80\u001b[0m \u001b[32m━━━━━━━━━━━━━━━━━━━━\u001b[0m\u001b[37m\u001b[0m \u001b[1m0s\u001b[0m 2ms/step - accuracy: 0.9849 - loss: 0.0416 - val_accuracy: 0.9858 - val_loss: 0.0383\n",
      "Epoch 40/50\n",
      "\u001b[1m80/80\u001b[0m \u001b[32m━━━━━━━━━━━━━━━━━━━━\u001b[0m\u001b[37m\u001b[0m \u001b[1m0s\u001b[0m 2ms/step - accuracy: 0.9888 - loss: 0.0291 - val_accuracy: 0.9890 - val_loss: 0.0319\n",
      "Epoch 41/50\n",
      "\u001b[1m80/80\u001b[0m \u001b[32m━━━━━━━━━━━━━━━━━━━━\u001b[0m\u001b[37m\u001b[0m \u001b[1m0s\u001b[0m 2ms/step - accuracy: 0.9880 - loss: 0.0319 - val_accuracy: 0.9890 - val_loss: 0.0366\n",
      "Epoch 42/50\n",
      "\u001b[1m80/80\u001b[0m \u001b[32m━━━━━━━━━━━━━━━━━━━━\u001b[0m\u001b[37m\u001b[0m \u001b[1m0s\u001b[0m 2ms/step - accuracy: 0.9916 - loss: 0.0279 - val_accuracy: 0.9890 - val_loss: 0.0368\n",
      "Epoch 43/50\n",
      "\u001b[1m80/80\u001b[0m \u001b[32m━━━━━━━━━━━━━━━━━━━━\u001b[0m\u001b[37m\u001b[0m \u001b[1m0s\u001b[0m 2ms/step - accuracy: 0.9876 - loss: 0.0309 - val_accuracy: 0.9890 - val_loss: 0.0397\n",
      "Epoch 44/50\n",
      "\u001b[1m80/80\u001b[0m \u001b[32m━━━━━━━━━━━━━━━━━━━━\u001b[0m\u001b[37m\u001b[0m \u001b[1m0s\u001b[0m 2ms/step - accuracy: 0.9903 - loss: 0.0262 - val_accuracy: 0.9874 - val_loss: 0.0366\n",
      "Epoch 45/50\n",
      "\u001b[1m80/80\u001b[0m \u001b[32m━━━━━━━━━━━━━━━━━━━━\u001b[0m\u001b[37m\u001b[0m \u001b[1m0s\u001b[0m 2ms/step - accuracy: 0.9886 - loss: 0.0253 - val_accuracy: 0.9937 - val_loss: 0.0294\n",
      "Epoch 46/50\n",
      "\u001b[1m80/80\u001b[0m \u001b[32m━━━━━━━━━━━━━━━━━━━━\u001b[0m\u001b[37m\u001b[0m \u001b[1m0s\u001b[0m 2ms/step - accuracy: 0.9892 - loss: 0.0315 - val_accuracy: 0.9890 - val_loss: 0.0356\n",
      "Epoch 47/50\n",
      "\u001b[1m80/80\u001b[0m \u001b[32m━━━━━━━━━━━━━━━━━━━━\u001b[0m\u001b[37m\u001b[0m \u001b[1m0s\u001b[0m 2ms/step - accuracy: 0.9923 - loss: 0.0224 - val_accuracy: 0.9858 - val_loss: 0.0356\n",
      "Epoch 48/50\n",
      "\u001b[1m80/80\u001b[0m \u001b[32m━━━━━━━━━━━━━━━━━━━━\u001b[0m\u001b[37m\u001b[0m \u001b[1m0s\u001b[0m 2ms/step - accuracy: 0.9870 - loss: 0.0269 - val_accuracy: 0.9874 - val_loss: 0.0367\n",
      "Epoch 49/50\n",
      "\u001b[1m80/80\u001b[0m \u001b[32m━━━━━━━━━━━━━━━━━━━━\u001b[0m\u001b[37m\u001b[0m \u001b[1m0s\u001b[0m 2ms/step - accuracy: 0.9861 - loss: 0.0325 - val_accuracy: 0.9874 - val_loss: 0.0392\n",
      "Epoch 50/50\n",
      "\u001b[1m80/80\u001b[0m \u001b[32m━━━━━━━━━━━━━━━━━━━━\u001b[0m\u001b[37m\u001b[0m \u001b[1m0s\u001b[0m 2ms/step - accuracy: 0.9889 - loss: 0.0274 - val_accuracy: 0.9858 - val_loss: 0.0386\n"
     ]
    }
   ],
   "source": [
    "# Train the model\n",
    "history = model.fit(X_train, y_train, epochs=50, batch_size=32, validation_data=(X_test, y_test))\n"
   ]
  },
  {
   "cell_type": "markdown",
   "id": "65f7aea2",
   "metadata": {
    "papermill": {
     "duration": 0.013891,
     "end_time": "2025-01-27T17:01:31.474743",
     "exception": false,
     "start_time": "2025-01-27T17:01:31.460852",
     "status": "completed"
    },
    "tags": []
   },
   "source": [
    "## `Step9: Evaluate the model` and check for accuracy "
   ]
  },
  {
   "cell_type": "code",
   "execution_count": 9,
   "id": "17714f70",
   "metadata": {
    "execution": {
     "iopub.execute_input": "2025-01-27T17:01:31.503854Z",
     "iopub.status.busy": "2025-01-27T17:01:31.503588Z",
     "iopub.status.idle": "2025-01-27T17:01:31.587548Z",
     "shell.execute_reply": "2025-01-27T17:01:31.586773Z"
    },
    "papermill": {
     "duration": 0.100078,
     "end_time": "2025-01-27T17:01:31.588866",
     "exception": false,
     "start_time": "2025-01-27T17:01:31.488788",
     "status": "completed"
    },
    "tags": []
   },
   "outputs": [
    {
     "name": "stdout",
     "output_type": "stream",
     "text": [
      "Test Accuracy: 98.58%\n"
     ]
    }
   ],
   "source": [
    "# Evaluate the model\n",
    "test_loss, test_accuracy = model.evaluate(X_test, y_test, verbose=0)\n",
    "print(f\"Test Accuracy: {test_accuracy * 100:.2f}%\")\n"
   ]
  },
  {
   "cell_type": "markdown",
   "id": "a36934dc",
   "metadata": {
    "papermill": {
     "duration": 0.013769,
     "end_time": "2025-01-27T17:01:31.616789",
     "exception": false,
     "start_time": "2025-01-27T17:01:31.603020",
     "status": "completed"
    },
    "tags": []
   },
   "source": [
    "## `Step10: Data Visualizations`"
   ]
  },
  {
   "cell_type": "markdown",
   "id": "668c9a79",
   "metadata": {
    "papermill": {
     "duration": 0.013888,
     "end_time": "2025-01-27T17:01:31.644466",
     "exception": false,
     "start_time": "2025-01-27T17:01:31.630578",
     "status": "completed"
    },
    "tags": []
   },
   "source": [
    "### `Plot training and validation accuracy`"
   ]
  },
  {
   "cell_type": "code",
   "execution_count": 10,
   "id": "245fed76",
   "metadata": {
    "execution": {
     "iopub.execute_input": "2025-01-27T17:01:31.672975Z",
     "iopub.status.busy": "2025-01-27T17:01:31.672752Z",
     "iopub.status.idle": "2025-01-27T17:01:32.061298Z",
     "shell.execute_reply": "2025-01-27T17:01:32.060503Z"
    },
    "papermill": {
     "duration": 0.404531,
     "end_time": "2025-01-27T17:01:32.062842",
     "exception": false,
     "start_time": "2025-01-27T17:01:31.658311",
     "status": "completed"
    },
    "tags": []
   },
   "outputs": [
    {
     "data": {
      "image/png": "[encoded data removed]",
      "text/plain": [
       "<Figure size 800x600 with 1 Axes>"
      ]
     },
     "metadata": {},
     "output_type": "display_data"
    }
   ],
   "source": [
    "# Plot training and validation accuracy\n",
    "plt.figure(figsize=(8, 6))\n",
    "plt.plot(history.history['accuracy'], label='Training Accuracy')\n",
    "plt.plot(history.history['val_accuracy'], label='Validation Accuracy')\n",
    "plt.xlabel('Epochs')\n",
    "plt.ylabel('Accuracy')\n",
    "plt.legend()\n",
    "plt.title('Model Accuracy')\n",
    "plt.show()"
   ]
  },
  {
   "cell_type": "markdown",
   "id": "a4ef041d",
   "metadata": {
    "papermill": {
     "duration": 0.014299,
     "end_time": "2025-01-27T17:01:32.092428",
     "exception": false,
     "start_time": "2025-01-27T17:01:32.078129",
     "status": "completed"
    },
    "tags": []
   },
   "source": [
    "### `Confusion Matrix`"
   ]
  },
  {
   "cell_type": "code",
   "execution_count": 11,
   "id": "373bee50",
   "metadata": {
    "execution": {
     "iopub.execute_input": "2025-01-27T17:01:32.121973Z",
     "iopub.status.busy": "2025-01-27T17:01:32.121748Z",
     "iopub.status.idle": "2025-01-27T17:01:32.723524Z",
     "shell.execute_reply": "2025-01-27T17:01:32.722709Z"
    },
    "papermill": {
     "duration": 0.618157,
     "end_time": "2025-01-27T17:01:32.725018",
     "exception": false,
     "start_time": "2025-01-27T17:01:32.106861",
     "status": "completed"
    },
    "tags": []
   },
   "outputs": [
    {
     "name": "stdout",
     "output_type": "stream",
     "text": [
      "\u001b[1m20/20\u001b[0m \u001b[32m━━━━━━━━━━━━━━━━━━━━\u001b[0m\u001b[37m\u001b[0m \u001b[1m0s\u001b[0m 10ms/step\n"
     ]
    },
    {
     "data": {
      "image/png": "[encoded data removed]",
      "text/plain": [
       "<Figure size 600x600 with 2 Axes>"
      ]
     },
     "metadata": {},
     "output_type": "display_data"
    }
   ],
   "source": [
    "# Confusion Matrix\n",
    "from sklearn.metrics import confusion_matrix, classification_report\n",
    "\n",
    "y_pred = (model.predict(X_test) > 0.5).astype(\"int32\")\n",
    "conf_matrix = confusion_matrix(y_test, y_pred)\n",
    "\n",
    "# Plot confusion matrix\n",
    "plt.figure(figsize=(6, 6))\n",
    "sns.heatmap(conf_matrix, annot=True, fmt='d', cmap='Blues', xticklabels=encoder.classes_, yticklabels=encoder.classes_)\n",
    "plt.xlabel('Predicted')\n",
    "plt.ylabel('Actual')\n",
    "plt.title('Confusion Matrix')\n",
    "plt.show()"
   ]
  },
  {
   "cell_type": "markdown",
   "id": "b1beeb50",
   "metadata": {
    "papermill": {
     "duration": 0.015101,
     "end_time": "2025-01-27T17:01:32.756003",
     "exception": false,
     "start_time": "2025-01-27T17:01:32.740902",
     "status": "completed"
    },
    "tags": []
   },
   "source": [
    "### `classification report`"
   ]
  },
  {
   "cell_type": "code",
   "execution_count": 12,
   "id": "17710b5a",
   "metadata": {
    "execution": {
     "iopub.execute_input": "2025-01-27T17:01:32.786871Z",
     "iopub.status.busy": "2025-01-27T17:01:32.786545Z",
     "iopub.status.idle": "2025-01-27T17:01:32.797911Z",
     "shell.execute_reply": "2025-01-27T17:01:32.797077Z"
    },
    "papermill": {
     "duration": 0.028203,
     "end_time": "2025-01-27T17:01:32.799204",
     "exception": false,
     "start_time": "2025-01-27T17:01:32.771001",
     "status": "completed"
    },
    "tags": []
   },
   "outputs": [
    {
     "name": "stdout",
     "output_type": "stream",
     "text": [
      "              precision    recall  f1-score   support\n",
      "\n",
      "      female       0.98      0.99      0.99       317\n",
      "        male       0.99      0.98      0.99       317\n",
      "\n",
      "    accuracy                           0.99       634\n",
      "   macro avg       0.99      0.99      0.99       634\n",
      "weighted avg       0.99      0.99      0.99       634\n",
      "\n"
     ]
    }
   ],
   "source": [
    "# Print classification report\n",
    "print(classification_report(y_test, y_pred, target_names=encoder.classes_))\n"
   ]
  }
 ],
 "metadata": {
  "kaggle": {
   "accelerator": "nvidiaTeslaT4",
   "dataSources": [
    {
     "datasetId": 134,
     "sourceId": 276,
     "sourceType": "datasetVersion"
    }
   ],
   "dockerImageVersionId": 30840,
   "isGpuEnabled": true,
   "isInternetEnabled": true,
   "language": "python",
   "sourceType": "notebook"
  },
  "kernelspec": {
   "display_name": "Python 3",
   "language": "python",
   "name": "python3"
  },
  "language_info": {
   "codemirror_mode": {
    "name": "ipython",
    "version": 3
   },
   "file_extension": ".py",
   "mimetype": "text/x-python",
   "name": "python",
   "nbconvert_exporter": "python",
   "pygments_lexer": "ipython3",
   "version": "3.10.12"
  },
  "papermill": {
   "default_parameters": {},
   "duration": 34.494382,
   "end_time": "2025-01-27T17:01:34.435101",
   "environment_variables": {},
   "exception": null,
   "input_path": "__notebook__.ipynb",
   "output_path": "__notebook__.ipynb",
   "parameters": {},
   "start_time": "2025-01-27T17:00:59.940719",
   "version": "2.6.0"
  }
 },
 "nbformat": 4,
 "nbformat_minor": 5
}
